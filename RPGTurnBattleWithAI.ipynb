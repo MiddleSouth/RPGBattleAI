{
  "nbformat": 4,
  "nbformat_minor": 0,
  "metadata": {
    "colab": {
      "name": "RPGTurnBattleWithAI.ipynb",
      "provenance": [],
      "collapsed_sections": [],
      "toc_visible": true,
      "authorship_tag": "ABX9TyM+RcUH6eshyQQUNUCAiuPH",
      "include_colab_link": true
    },
    "kernelspec": {
      "name": "python3",
      "display_name": "Python 3"
    }
  },
  "cells": [
    {
      "cell_type": "markdown",
      "metadata": {
        "id": "view-in-github",
        "colab_type": "text"
      },
      "source": [
        "<a href=\"https://colab.research.google.com/github/MiddleSouth/RPGBattleAI/blob/master/RPGTurnBattleWithAI.ipynb\" target=\"_parent\"><img src=\"https://colab.research.google.com/assets/colab-badge.svg\" alt=\"Open In Colab\"/></a>"
      ]
    },
    {
      "cell_type": "markdown",
      "metadata": {
        "id": "_hNENVdnGdSS"
      },
      "source": [
        "# このアプリの使用例\n",
        "Git Hubから研究用コードをクローンします"
      ]
    },
    {
      "cell_type": "code",
      "metadata": {
        "id": "-C-q56xDA515",
        "colab": {
          "base_uri": "https://localhost:8080/",
          "height": 119
        },
        "outputId": "91c7409c-e3bd-4f4d-9f01-6c6323d0c49d"
      },
      "source": [
        "!git clone https://github.com/MiddleSouth/RPGBattleAI.git"
      ],
      "execution_count": null,
      "outputs": [
        {
          "output_type": "stream",
          "text": [
            "Cloning into 'RPGBattleAI'...\n",
            "remote: Enumerating objects: 70, done.\u001b[K\n",
            "remote: Counting objects: 100% (70/70), done.\u001b[K\n",
            "remote: Compressing objects: 100% (47/47), done.\u001b[K\n",
            "remote: Total 70 (delta 32), reused 56 (delta 21), pack-reused 0\u001b[K\n",
            "Unpacking objects: 100% (70/70), done.\n"
          ],
          "name": "stdout"
        }
      ]
    },
    {
      "cell_type": "markdown",
      "metadata": {
        "id": "-8DWZ1FtGmcD"
      },
      "source": [
        "クローンしたフォルダに移動します"
      ]
    },
    {
      "cell_type": "code",
      "metadata": {
        "id": "mds_-tMWBXLY",
        "colab": {
          "base_uri": "https://localhost:8080/",
          "height": 221
        },
        "outputId": "538e05ea-2afc-49e6-f4f3-8119ca2a8303"
      },
      "source": [
        "%cd RPGBattleAI\n",
        "!ls -lha"
      ],
      "execution_count": null,
      "outputs": [
        {
          "output_type": "stream",
          "text": [
            "/content/RPGBattleAI\n",
            "total 132K\n",
            "drwxr-xr-x 5 root root 4.0K Oct 14 12:43 .\n",
            "drwxr-xr-x 1 root root 4.0K Oct 14 12:43 ..\n",
            "drwxr-xr-x 2 root root 4.0K Oct 14 12:43 AIPlayer\n",
            "drwxr-xr-x 3 root root 4.0K Oct 14 12:43 battle\n",
            "-rw-r--r-- 1 root root  591 Oct 14 12:43 ExecuteSimulation.py\n",
            "drwxr-xr-x 8 root root 4.0K Oct 14 12:43 .git\n",
            "-rw-r--r-- 1 root root   35 Oct 14 12:43 .gitignore\n",
            "-rw-r--r-- 1 root root 5.0K Oct 14 12:43 ReadMe.md\n",
            "-rw-r--r-- 1 root root 5.0K Oct 14 12:43 RPGTurnBattle.py\n",
            "-rw-r--r-- 1 root root  85K Oct 14 12:43 RPGTurnBattleWithAI.ipynb\n"
          ],
          "name": "stdout"
        }
      ]
    },
    {
      "cell_type": "markdown",
      "metadata": {
        "id": "zmXjSqCNHQca"
      },
      "source": [
        "深層強化学習（DQN）を用いて、ゲームの学習を行います。\n",
        "\n",
        "今回はsampleシナリオの学習を行います。sampleシナリオの戦闘における攻略のコツは以下の二つです。\n",
        "\n",
        "1. プレイヤーは「敵の呪文を封じる」効果を持つ「封印」の呪文を使えます。<br>魔法の使用率が高い敵（魔法幽霊、コウモリーマなど）に「封印」の呪文を使用すると戦闘を有利に進めることができます。\n",
        "2. 攻撃呪文「火の玉」は敵の防御を無視するため、防御力の高い「鉄のザリガニ」に対して特に有効です。\n",
        "\n",
        "これらの攻略のコツをAIが上手く学習するかが、注目ポイントです。"
      ]
    },
    {
      "cell_type": "code",
      "metadata": {
        "id": "v_k-zez_Fllg",
        "colab": {
          "base_uri": "https://localhost:8080/",
          "height": 204
        },
        "outputId": "43b99594-bf02-443d-efcb-55c39dd024ad"
      },
      "source": [
        "import sys\n",
        "import RPGTurnBattle as RPG\n",
        "from AIPlayer.DQNPlayer import DQNPlayer\n",
        "\n",
        "training_env = RPG.Simulation(scenario_code='sample')\n",
        "\n",
        "player = DQNPlayer(training_env, 100)\n",
        "player.set_learning_parameters(\n",
        "    gamma=0.99,\n",
        "    eps_decay=4000,\n",
        "    num_episodes=7000,\n",
        "    batch_size=128,\n",
        ")\n",
        "player.training()"
      ],
      "execution_count": null,
      "outputs": [
        {
          "output_type": "stream",
          "text": [
            "end 700 episode\n",
            "end 1400 episode\n",
            "end 2100 episode\n",
            "end 2800 episode\n",
            "end 3500 episode\n",
            "end 4200 episode\n",
            "end 4900 episode\n",
            "end 5600 episode\n",
            "end 6300 episode\n",
            "end 7000 episode\n",
            "Complete\n"
          ],
          "name": "stdout"
        }
      ]
    },
    {
      "cell_type": "markdown",
      "metadata": {
        "id": "_bNmuITuMaCU"
      },
      "source": [
        "学習の経過をグラフにプロットします。<br>\n",
        "1エピソード事の獲得報酬と、過去100エピソードの獲得報酬の移動平均をグラフにプロットしています。<br>なお、敗北したときの獲得報酬は0未満、10回戦闘を生き残った場合の獲得報酬は0以上、すべての戦闘に勝利したときの獲得報酬は20です。\n",
        "\n",
        "初めのうちはほとんどランダムに行動するため10回の戦闘を生き残れる確率は低く、運よく生き残ってもすべての戦闘に勝利することはできません。しかし4000エピソードを超えたあたりから10回の戦闘すべてに勝利できるパターンが現れ、学習終了時点では安定して高い報酬を得られるようになっていることがわかります。"
      ]
    },
    {
      "cell_type": "code",
      "metadata": {
        "id": "xj4wDHJDJ435",
        "colab": {
          "base_uri": "https://localhost:8080/",
          "height": 295
        },
        "outputId": "6d8bf774-f62d-469d-f535-284913ae7ce6"
      },
      "source": [
        "import matplotlib\n",
        "import matplotlib.pyplot as plt\n",
        "import torch\n",
        "\n",
        "plt.figure(2)\n",
        "plt.clf()\n",
        "rewards_t = torch.tensor(player.episode_rewards, dtype=torch.float)\n",
        "plt.title('Training...')\n",
        "plt.xlabel('Episode')\n",
        "plt.ylabel('Reward')\n",
        "plt.plot(rewards_t.numpy())\n",
        "# 過去100エピソードの平均報酬\n",
        "if len(rewards_t) >= 100:\n",
        "    means = rewards_t.unfold(0, 100, 1).mean(1).view(-1)\n",
        "    means = torch.cat((torch.zeros(99), means))\n",
        "    plt.plot(means.numpy())\n",
        "plt.show()"
      ],
      "execution_count": null,
      "outputs": [
        {
          "output_type": "display_data",
          "data": {
            "image/png": "[encoded data removed]",
            "text/plain": [
              "<Figure size 432x288 with 1 Axes>"
            ]
          },
          "metadata": {
            "tags": [],
            "needs_background": "light"
          }
        }
      ]
    },
    {
      "cell_type": "markdown",
      "metadata": {
        "id": "Qt--zJlgMfNc"
      },
      "source": [
        "学習後のAIを用いてゲームを100回プレイさせて、学習結果を確認します。結果からわかることは以下の通りです。\n",
        "\n",
        "- 約90%の確率で10回の戦闘を生き残っている\n",
        "- 10回の戦闘を生き残ったパターンにおける逃げる回数は0～2回のケースが多く、なるべく戦闘に勝利しつつも10回の戦闘を生き残ることを最も重視していることが読み取れる"
      ]
    },
    {
      "cell_type": "code",
      "metadata": {
        "id": "x9Y5MKdXMKpC",
        "colab": {
          "base_uri": "https://localhost:8080/",
          "height": 312
        },
        "outputId": "601ee822-3486-4d7f-96e4-2da0c1382e65"
      },
      "source": [
        "test_env = RPG.Simulation(scenario_code='sample')\n",
        "result_rewards, dead_count = player.test(test_env, 100)\n",
        "print(dead_count)\n",
        "\n",
        "plt.figure(2)\n",
        "plt.clf()\n",
        "rewards_t = torch.tensor(result_rewards, dtype=torch.float)\n",
        "plt.title('Training...')\n",
        "plt.xlabel('Episode')\n",
        "plt.ylabel('Reward')\n",
        "plt.plot(rewards_t.numpy())\n",
        "plt.show()"
      ],
      "execution_count": null,
      "outputs": [
        {
          "output_type": "stream",
          "text": [
            "11\n"
          ],
          "name": "stdout"
        },
        {
          "output_type": "display_data",
          "data": {
            "image/png": "[encoded data removed]",
            "text/plain": [
              "<Figure size 432x288 with 1 Axes>"
            ]
          },
          "metadata": {
            "tags": [],
            "needs_background": "light"
          }
        }
      ]
    },
    {
      "cell_type": "markdown",
      "metadata": {
        "id": "rpY8ggnItKgi"
      },
      "source": [
        "学習済みのAIが1エピソード（戦闘10回終了まで）を行う様子を確認してみましょう。"
      ]
    },
    {
      "cell_type": "code",
      "metadata": {
        "id": "IBd7FnvIMW-i",
        "colab": {
          "base_uri": "https://localhost:8080/",
          "height": 1000
        },
        "outputId": "6d7bbe3d-805e-476d-c925-50960cecee2c"
      },
      "source": [
        "player.test(test_env, 1, True)"
      ],
      "execution_count": null,
      "outputs": [
        {
          "output_type": "stream",
          "text": [
            "\n",
            "あなたのステータス\n",
            "HP:40, MP:26\n",
            "モンスター：魔法コウモリ\n",
            "\n",
            "あなた の攻撃！ 魔法コウモリ に 8 のダメージを与えた！\n",
            "魔法コウモリ の攻撃！ あなた は 1 のダメージを受けた！\n",
            "\n",
            "あなたのステータス\n",
            "HP:39, MP:26\n",
            "モンスター：魔法コウモリ\n",
            "\n",
            "あなた の攻撃！ 魔法コウモリ に 10 のダメージを与えた！\n",
            "魔法コウモリ は 倒れた！\n",
            "\n",
            "魔法コウモリ を倒した！\n",
            "残り戦闘回数： 9 回\n",
            "\n",
            "新たに コウモリーマ が出現しました。コマンドを選択してください。\n",
            "\n",
            "あなたのステータス\n",
            "HP:39, MP:26\n",
            "モンスター：コウモリーマ\n",
            "\n",
            "コウモリーマ は 治療 の呪文を唱えた！ コウモリーマ の HP が 4 回復した！\n",
            "あなた の攻撃！ コウモリーマ に 5 のダメージを与えた！\n",
            "\n",
            "あなたのステータス\n",
            "HP:39, MP:26\n",
            "モンスター：コウモリーマ\n",
            "\n",
            "コウモリーマ の攻撃！ あなた は 2 のダメージを受けた！\n",
            "あなた の攻撃！ コウモリーマ に 6 のダメージを与えた！\n",
            "\n",
            "あなたのステータス\n",
            "HP:37, MP:26\n",
            "モンスター：コウモリーマ\n",
            "\n",
            "コウモリーマ は 火の玉 の呪文を唱えた！ あなた は 8 のダメージを受けた！\n",
            "あなた の攻撃！ コウモリーマ に 9 のダメージを与えた！\n",
            "\n",
            "コウモリーマ を倒した！\n",
            "残り戦闘回数： 8 回\n",
            "\n",
            "新たに コウモリーマ が出現しました。コマンドを選択してください。\n",
            "\n",
            "あなたのステータス\n",
            "HP:29, MP:26\n",
            "モンスター：コウモリーマ\n",
            "\n",
            "あなた の攻撃！ コウモリーマ に 6 のダメージを与えた！\n",
            "コウモリーマ の攻撃！ あなた は 4 のダメージを受けた！\n",
            "\n",
            "あなたのステータス\n",
            "HP:25, MP:26\n",
            "モンスター：コウモリーマ\n",
            "\n",
            "あなた の攻撃！ コウモリーマ に 6 のダメージを与えた！\n",
            "コウモリーマ の攻撃！ あなた は 3 のダメージを受けた！\n",
            "\n",
            "あなたのステータス\n",
            "HP:22, MP:26\n",
            "モンスター：コウモリーマ\n",
            "\n",
            "あなた の攻撃！ コウモリーマ に 7 のダメージを与えた！\n",
            "\n",
            "コウモリーマ を倒した！\n",
            "残り戦闘回数： 7 回\n",
            "\n",
            "新たに 魔法幽霊 が出現しました。コマンドを選択してください。\n",
            "\n",
            "あなたのステータス\n",
            "HP:22, MP:26\n",
            "モンスター：魔法幽霊\n",
            "\n",
            "あなた の攻撃！ 魔法幽霊 に 6 のダメージを与えた！\n",
            "魔法幽霊 は 火の玉 の呪文を唱えた！ あなた は 10 のダメージを受けた！\n",
            "\n",
            "あなたのステータス\n",
            "HP:12, MP:26\n",
            "モンスター：魔法幽霊\n",
            "\n",
            "あなた の攻撃！ 魔法幽霊 に 11 のダメージを与えた！\n",
            "魔法幽霊 は 火の玉 の呪文を唱えた！ あなた は 3 のダメージを受けた！\n",
            "\n",
            "あなたのステータス\n",
            "HP:9, MP:26\n",
            "モンスター：魔法幽霊\n",
            "\n",
            "あなた は 治療 の呪文を唱えた！ あなた の HP が 20 回復した！\n",
            "魔法幽霊 は 火の玉 の呪文を唱えた！ あなた は 7 のダメージを受けた！\n",
            "\n",
            "あなたのステータス\n",
            "HP:22, MP:22\n",
            "モンスター：魔法幽霊\n",
            "\n",
            "あなた の攻撃！ 魔法幽霊 に 8 のダメージを与えた！\n",
            "魔法幽霊 は 倒れた！\n",
            "\n",
            "魔法幽霊 を倒した！\n",
            "残り戦闘回数： 6 回\n",
            "\n",
            "新たに コウモリーマ が出現しました。コマンドを選択してください。\n",
            "\n",
            "あなたのステータス\n",
            "HP:22, MP:22\n",
            "モンスター：コウモリーマ\n",
            "\n",
            "あなた は 封印 の呪文を唱えた！ コウモリーマ は呪文が使えなくなった！\n",
            "コウモリーマ は 火の玉 の呪文を唱えた！ しかし呪文は封じられている！\n",
            "\n",
            "あなたのステータス\n",
            "HP:22, MP:20\n",
            "モンスター：コウモリーマ\n",
            "\n",
            "あなた の攻撃！ コウモリーマ に 7 のダメージを与えた！\n",
            "コウモリーマ は 火の玉 の呪文を唱えた！ しかし呪文は封じられている！\n",
            "\n",
            "あなたのステータス\n",
            "HP:22, MP:20\n",
            "モンスター：コウモリーマ\n",
            "\n",
            "あなた の攻撃！ コウモリーマ に 6 のダメージを与えた！\n",
            "コウモリーマ は 治療 の呪文を唱えた！ しかし呪文は封じられている！\n",
            "\n",
            "あなたのステータス\n",
            "HP:22, MP:20\n",
            "モンスター：コウモリーマ\n",
            "\n",
            "あなた の攻撃！ コウモリーマ に 5 のダメージを与えた！\n",
            "\n",
            "コウモリーマ を倒した！\n",
            "残り戦闘回数： 5 回\n",
            "\n",
            "新たに 食人植物 が出現しました。コマンドを選択してください。\n",
            "\n",
            "あなたのステータス\n",
            "HP:22, MP:20\n",
            "モンスター：食人植物\n",
            "\n",
            "あなた の攻撃！ 食人植物 に 11 のダメージを与えた！\n",
            "食人植物 の攻撃！ あなた は 4 のダメージを受けた！\n",
            "\n",
            "あなたのステータス\n",
            "HP:18, MP:20\n",
            "モンスター：食人植物\n",
            "\n",
            "あなた の攻撃！ 食人植物 に 6 のダメージを与えた！\n",
            "食人植物 の攻撃！ あなた は 2 のダメージを受けた！\n",
            "\n",
            "あなたのステータス\n",
            "HP:16, MP:20\n",
            "モンスター：食人植物\n",
            "\n",
            "あなた の攻撃！ 食人植物 に 6 のダメージを与えた！\n",
            "食人植物 は 倒れた！\n",
            "\n",
            "食人植物 を倒した！\n",
            "残り戦闘回数： 4 回\n",
            "\n",
            "新たに コウモリーマ が出現しました。コマンドを選択してください。\n",
            "\n",
            "あなたのステータス\n",
            "HP:16, MP:20\n",
            "モンスター：コウモリーマ\n",
            "\n",
            "あなた は 封印 の呪文を唱えた！ コウモリーマ は呪文が使えなくなった！\n",
            "コウモリーマ の攻撃！ あなた は 3 のダメージを受けた！\n",
            "\n",
            "あなたのステータス\n",
            "HP:13, MP:18\n",
            "モンスター：コウモリーマ\n",
            "\n",
            "あなた は 封印 の呪文を唱えた！ コウモリーマ は呪文が使えなくなった！\n",
            "コウモリーマ の攻撃！ あなた は 3 のダメージを受けた！\n",
            "\n",
            "あなたのステータス\n",
            "HP:10, MP:16\n",
            "モンスター：コウモリーマ\n",
            "\n",
            "あなた は 治療 の呪文を唱えた！ あなた の HP が 18 回復した！\n",
            "コウモリーマ は 火の玉 の呪文を唱えた！ しかし呪文は封じられている！\n",
            "\n",
            "あなたのステータス\n",
            "HP:28, MP:12\n",
            "モンスター：コウモリーマ\n",
            "\n",
            "あなた の攻撃！ コウモリーマ に 8 のダメージを与えた！\n",
            "コウモリーマ は 火の玉 の呪文を唱えた！ しかし呪文は封じられている！\n",
            "\n",
            "あなたのステータス\n",
            "HP:28, MP:12\n",
            "モンスター：コウモリーマ\n",
            "\n",
            "あなた の攻撃！ コウモリーマ に 9 のダメージを与えた！\n",
            "コウモリーマ は 治療 の呪文を唱えた！ しかし呪文は封じられている！\n",
            "\n",
            "あなたのステータス\n",
            "HP:28, MP:12\n",
            "モンスター：コウモリーマ\n",
            "\n",
            "あなた の攻撃！ コウモリーマ に 8 のダメージを与えた！\n",
            "コウモリーマ は 倒れた！\n",
            "\n",
            "コウモリーマ を倒した！\n",
            "残り戦闘回数： 3 回\n",
            "\n",
            "新たに 魔法幽霊 が出現しました。コマンドを選択してください。\n",
            "\n",
            "あなたのステータス\n",
            "HP:28, MP:12\n",
            "モンスター：魔法幽霊\n",
            "\n",
            "あなた の攻撃！ 魔法幽霊 に 6 のダメージを与えた！\n",
            "魔法幽霊 の攻撃！ あなた は 3 のダメージを受けた！\n",
            "\n",
            "あなたのステータス\n",
            "HP:25, MP:12\n",
            "モンスター：魔法幽霊\n",
            "\n",
            "あなた の攻撃！ 魔法幽霊 に 5 のダメージを与えた！\n",
            "魔法幽霊 は 火の玉 の呪文を唱えた！ あなた は 8 のダメージを受けた！\n",
            "\n",
            "あなたのステータス\n",
            "HP:17, MP:12\n",
            "モンスター：魔法幽霊\n",
            "\n",
            "あなた の攻撃！ 魔法幽霊 に 9 のダメージを与えた！\n",
            "魔法幽霊 の攻撃！ あなた は 3 のダメージを受けた！\n",
            "\n",
            "あなたのステータス\n",
            "HP:14, MP:12\n",
            "モンスター：魔法幽霊\n",
            "\n",
            "あなた の攻撃！ 魔法幽霊 に 11 のダメージを与えた！\n",
            "魔法幽霊 は 倒れた！\n",
            "\n",
            "魔法幽霊 を倒した！\n",
            "残り戦闘回数： 2 回\n",
            "\n",
            "新たに 食人植物 が出現しました。コマンドを選択してください。\n",
            "\n",
            "あなたのステータス\n",
            "HP:14, MP:12\n",
            "モンスター：食人植物\n",
            "\n",
            "あなた は 封印 の呪文を唱えた！ 食人植物 は呪文が使えなくなった！\n",
            "食人植物 の攻撃！ あなた は 4 のダメージを受けた！\n",
            "\n",
            "あなたのステータス\n",
            "HP:10, MP:10\n",
            "モンスター：食人植物\n",
            "\n",
            "あなた は 治療 の呪文を唱えた！ あなた の HP が 19 回復した！\n",
            "食人植物 の攻撃！ あなた は 4 のダメージを受けた！\n",
            "\n",
            "あなたのステータス\n",
            "HP:25, MP:6\n",
            "モンスター：食人植物\n",
            "\n",
            "あなた の攻撃！ 食人植物 に 7 のダメージを与えた！\n",
            "食人植物 の攻撃！ あなた は 3 のダメージを受けた！\n",
            "\n",
            "あなたのステータス\n",
            "HP:22, MP:6\n",
            "モンスター：食人植物\n",
            "\n",
            "あなた の攻撃！ 食人植物 に 7 のダメージを与えた！\n",
            "食人植物 の攻撃！ あなた は 3 のダメージを受けた！\n",
            "\n",
            "あなたのステータス\n",
            "HP:19, MP:6\n",
            "モンスター：食人植物\n",
            "\n",
            "あなた の攻撃！ 食人植物 に 11 のダメージを与えた！\n",
            "食人植物 は 倒れた！\n",
            "\n",
            "食人植物 を倒した！\n",
            "残り戦闘回数： 1 回\n",
            "\n",
            "新たに 魔法幽霊 が出現しました。コマンドを選択してください。\n",
            "\n",
            "あなたのステータス\n",
            "HP:19, MP:6\n",
            "モンスター：魔法幽霊\n",
            "\n",
            "魔法幽霊 の攻撃！ あなた は 3 のダメージを受けた！\n",
            "あなた は 封印 の呪文を唱えた！ 魔法幽霊 は呪文が使えなくなった！\n",
            "\n",
            "あなたのステータス\n",
            "HP:16, MP:4\n",
            "モンスター：魔法幽霊\n",
            "\n",
            "魔法幽霊 は 火の玉 の呪文を唱えた！ しかし呪文は封じられている！\n",
            "あなた の攻撃！ 魔法幽霊 に 6 のダメージを与えた！\n",
            "\n",
            "あなたのステータス\n",
            "HP:16, MP:4\n",
            "モンスター：魔法幽霊\n",
            "\n",
            "魔法幽霊 の攻撃！ あなた は 2 のダメージを受けた！\n",
            "あなた の攻撃！ 魔法幽霊 に 7 のダメージを与えた！\n",
            "\n",
            "あなたのステータス\n",
            "HP:14, MP:4\n",
            "モンスター：魔法幽霊\n",
            "\n",
            "魔法幽霊 の攻撃！ あなた は 2 のダメージを受けた！\n",
            "あなた の攻撃！ 魔法幽霊 に 8 のダメージを与えた！\n",
            "\n",
            "あなたのステータス\n",
            "HP:12, MP:4\n",
            "モンスター：魔法幽霊\n",
            "\n",
            "魔法幽霊 は 火の玉 の呪文を唱えた！ しかし呪文は封じられている！\n",
            "あなた の攻撃！ 魔法幽霊 に 5 のダメージを与えた！\n",
            "魔法幽霊 は 倒れた！\n",
            "\n",
            "魔法幽霊 を倒した！\n",
            "\n",
            "敵を 10 体倒しました！ シミュレーションを終了します。\n",
            "獲得報酬は20です。\n"
          ],
          "name": "stdout"
        },
        {
          "output_type": "execute_result",
          "data": {
            "text/plain": [
              "([20], 0)"
            ]
          },
          "metadata": {
            "tags": []
          },
          "execution_count": 24
        }
      ]
    },
    {
      "cell_type": "markdown",
      "metadata": {
        "id": "ZJs4H3xlMo1D"
      },
      "source": [
        "上記から、AIの学習結果を以下の通り読み取ることができます。\n",
        "\n",
        "1. 大ザリガニには「火の玉」の呪文、その他の敵には通常攻撃を選択しており、攻撃方法を使い分けている。\n",
        "1. HPが低くなると「治療」の呪文を使って自身のHPを回復している。<br>ただし最後の敵（魔法幽霊）との闘いでは回復が間に合わずに敗北している。\n",
        "1. 状況に応じて「封印」の呪文を使い分けている\n",
        "  - 残り戦闘回数が多いうちは、魔法を使う敵が相手でも「封印」の呪文を使わない（MPを温存している？）\n",
        "  - 残り戦闘回数が少なくなってくると、魔法を使う敵に対して積極的に「封印」の呪文を使っている\n",
        "\n",
        "いずれの行動もゲーム作成者が意図した攻略法と同じ、または意図に近い行動をAIが選択しており、AIの学習が成功していると考えられます。"
      ]
    },
    {
      "cell_type": "markdown",
      "metadata": {
        "id": "SdobcCM0Z2vg"
      },
      "source": [
        "ゲームの内容は\"battle/data\"フォルダ内のjsonファイルを編集することで、ある程度は自分で調整することができます。\n",
        "\n",
        "| ファイル名 | 設定内容 |\n",
        "|--|--|\n",
        "| player.json | プレイヤーの能力を設定できます |\n",
        "| enemies.json | 敵の種類・能力などを設定できます |\n",
        "| scenario.json | ゲームのシナリオを設定できます。<br>具体的には、player.jsonに設定したプレイヤーを一人選び、enemies.jsonに設定した敵から出現する敵を複数設定できます。 |\n",
        "\n",
        "設定可能なコマンドは以下の通りです。\n",
        "\n",
        "| コマンド名<br>(ゲーム上の表示) | コマンド名<br>(設定上の名称) | MP消費 | 説明 |\n",
        "|:--|:--|--:|:--|\n",
        "| 攻撃 | attack | 0 | 敵に攻撃する |\n",
        "| 逃げる | escape | 0 | 戦闘から逃げる |\n",
        "| 治療 | cure | 4 | 自分のHPを回復する<br>プレイヤーが使った場合の方が、回復量が若干大きい |\n",
        "| 火の玉 | fire | 3 | 相手に防御無視のダメージを与える<br>プレイヤーが使った場合の方が、ダメージが若干大きい |\n",
        "| 封印 | magic_seal | 2 | 相手の魔法を封印する<br>封印は戦闘終了まで続く |\n",
        "| 睡眠 | sleep | 2 | 相手を眠らせて行動不能にする<br>ランダムで起きて行動可能になる |\n",
        "\n",
        "簡単ですが、このアプリの使い方は以上です。\n"
      ]
    }
  ]
}