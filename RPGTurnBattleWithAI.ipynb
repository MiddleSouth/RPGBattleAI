{
  "nbformat": 4,
  "nbformat_minor": 0,
  "metadata": {
    "colab": {
      "name": "RPGTurnBattleWithAI.ipynb",
      "provenance": [],
      "collapsed_sections": [],
      "authorship_tag": "ABX9TyM4GLwyaMKYeG/eT9t71bBr",
      "include_colab_link": true
    },
    "kernelspec": {
      "name": "python3",
      "display_name": "Python 3"
    }
  },
  "cells": [
    {
      "cell_type": "markdown",
      "metadata": {
        "id": "view-in-github",
        "colab_type": "text"
      },
      "source": [
        "<a href=\"https://colab.research.google.com/github/MiddleSouth/RPGBattleAI/blob/master/RPGTurnBattleWithAI.ipynb\" target=\"_parent\"><img src=\"https://colab.research.google.com/assets/colab-badge.svg\" alt=\"Open In Colab\"/></a>"
      ]
    },
    {
      "cell_type": "markdown",
      "metadata": {
        "id": "_hNENVdnGdSS",
        "colab_type": "text"
      },
      "source": [
        "# このアプリの使用例\n",
        "Git Hubから研究用コードをクローンします"
      ]
    },
    {
      "cell_type": "code",
      "metadata": {
        "id": "-C-q56xDA515",
        "colab_type": "code",
        "colab": {
          "base_uri": "https://localhost:8080/",
          "height": 146
        },
        "outputId": "993f5913-78c5-4bb8-ed07-8f7c3199f1e8"
      },
      "source": [
        "!git clone https://github.com/MiddleSouth/RPGBattleAI.git"
      ],
      "execution_count": null,
      "outputs": [
        {
          "output_type": "stream",
          "text": [
            "Cloning into 'RPGBattleAI'...\n",
            "remote: Enumerating objects: 19, done.\u001b[K\n",
            "remote: Counting objects: 100% (19/19), done.\u001b[K\n",
            "remote: Compressing objects: 100% (16/16), done.\u001b[K\n",
            "remote: Total 19 (delta 1), reused 19 (delta 1), pack-reused 0\u001b[K\n",
            "Unpacking objects: 100% (19/19), done.\n"
          ],
          "name": "stdout"
        }
      ]
    },
    {
      "cell_type": "markdown",
      "metadata": {
        "id": "-8DWZ1FtGmcD",
        "colab_type": "text"
      },
      "source": [
        "クローンしたフォルダに移動します"
      ]
    },
    {
      "cell_type": "code",
      "metadata": {
        "id": "mds_-tMWBXLY",
        "colab_type": "code",
        "colab": {
          "base_uri": "https://localhost:8080/",
          "height": 204
        },
        "outputId": "26e8865a-983b-4b78-e89e-af8dd5c3286d"
      },
      "source": [
        "%cd RPGBattleAI\n",
        "!ls -lha"
      ],
      "execution_count": null,
      "outputs": [
        {
          "output_type": "stream",
          "text": [
            "/content/RPGBattleAI\n",
            "total 40K\n",
            "drwxr-xr-x 5 root root 4.0K Aug 30 12:47 .\n",
            "drwxr-xr-x 1 root root 4.0K Aug 30 12:47 ..\n",
            "drwxr-xr-x 2 root root 4.0K Aug 30 12:47 AIPlayer\n",
            "drwxr-xr-x 3 root root 4.0K Aug 30 12:47 battle\n",
            "-rw-r--r-- 1 root root  766 Aug 30 12:47 ExecuteML.py\n",
            "-rw-r--r-- 1 root root  591 Aug 30 12:47 ExecuteSimulation.py\n",
            "drwxr-xr-x 8 root root 4.0K Aug 30 12:47 .git\n",
            "-rw-r--r-- 1 root root   35 Aug 30 12:47 .gitignore\n",
            "-rw-r--r-- 1 root root 5.0K Aug 30 12:47 RPGTurnBattle.py\n"
          ],
          "name": "stdout"
        }
      ]
    },
    {
      "cell_type": "markdown",
      "metadata": {
        "id": "zmXjSqCNHQca",
        "colab_type": "text"
      },
      "source": [
        "深層強化学習（DQN）を用いて、ゲームの学習を行います。\n",
        "\n",
        "今回は主人公のレベルを7に設定しています。レベル7の戦闘における攻略のコツは以下の二つです。\n",
        "\n",
        "1. レベル7の主人公は「敵の呪文を封じる」効果を持つ「封印」の呪文を使えます。<br>魔法の使用率が高い敵に対して「封印」の呪文を有効活用することで戦闘を有利に進めることができます。\n",
        "2. 敵キャラの「大ザリガニ」は他の敵と比べて防御力が高いため、敵の防御を無視する攻撃呪文「火の玉」を使うことが有効です。\n",
        "\n",
        "これらの攻略のコツをAIが上手く学習するかが、注目ポイントです。"
      ]
    },
    {
      "cell_type": "code",
      "metadata": {
        "id": "v_k-zez_Fllg",
        "colab_type": "code",
        "colab": {
          "base_uri": "https://localhost:8080/",
          "height": 204
        },
        "outputId": "e8dafa33-4a83-4eab-c82b-215d65102226"
      },
      "source": [
        "import sys\n",
        "import RPGTurnBattle as RPG\n",
        "from AIPlayer.DQNPlayer import DQNPlayer\n",
        "\n",
        "training_env = RPG.Simulation(lvs=[7])\n",
        "\n",
        "player = DQNPlayer(training_env, 100)\n",
        "player.set_learning_parameters(\n",
        "    gamma=0.99,\n",
        "    eps_decay=4000,\n",
        "    num_episodes=5000,\n",
        "    batch_size=128,\n",
        ")\n",
        "player.training()"
      ],
      "execution_count": null,
      "outputs": [
        {
          "output_type": "stream",
          "text": [
            "end 500 episode\n",
            "end 1000 episode\n",
            "end 1500 episode\n",
            "end 2000 episode\n",
            "end 2500 episode\n",
            "end 3000 episode\n",
            "end 3500 episode\n",
            "end 4000 episode\n",
            "end 4500 episode\n",
            "end 5000 episode\n",
            "Complete\n"
          ],
          "name": "stdout"
        }
      ]
    },
    {
      "cell_type": "markdown",
      "metadata": {
        "id": "_bNmuITuMaCU",
        "colab_type": "text"
      },
      "source": [
        "学習の経過をグラフにプロットします。<br>\n",
        "1エピソード事の獲得報酬と、過去100エピソードの獲得報酬の移動平均をグラフにプロットしています。<br>なお、敗北したときの獲得報酬は0未満、10回先頭を生き残った場合の獲得報酬は0以上、すべての戦闘に勝利したときの獲得報酬は20です。\n",
        "\n",
        "初めのうちはほとんどランダムに行動するため、10回の戦闘を生き残れる確率が低く、運よく生き残ってもすべての戦闘に勝利することはできません。しかし3500エピソードを超えたあたりから10回の戦闘すべてに勝利できるパターンが現れ、学習終了時点では安定して高い報酬を得られるようになっていることがわかります。"
      ]
    },
    {
      "cell_type": "code",
      "metadata": {
        "id": "xj4wDHJDJ435",
        "colab_type": "code",
        "colab": {
          "base_uri": "https://localhost:8080/",
          "height": 295
        },
        "outputId": "62e3ffb2-b1fa-4e69-a955-57e6cbc69dab"
      },
      "source": [
        "import matplotlib\n",
        "import matplotlib.pyplot as plt\n",
        "import torch\n",
        "\n",
        "plt.figure(2)\n",
        "plt.clf()\n",
        "rewards_t = torch.tensor(player.episode_rewards, dtype=torch.float)\n",
        "plt.title('Training...')\n",
        "plt.xlabel('Episode')\n",
        "plt.ylabel('Reward')\n",
        "plt.plot(rewards_t.numpy())\n",
        "# 過去100エピソードの平均報酬\n",
        "if len(rewards_t) >= 100:\n",
        "    means = rewards_t.unfold(0, 100, 1).mean(1).view(-1)\n",
        "    means = torch.cat((torch.zeros(99), means))\n",
        "    plt.plot(means.numpy())\n",
        "plt.show()"
      ],
      "execution_count": null,
      "outputs": [
        {
          "output_type": "display_data",
          "data": {
            "image/png": "[encoded data removed]",
            "text/plain": [
              "<Figure size 432x288 with 1 Axes>"
            ]
          },
          "metadata": {
            "tags": [],
            "needs_background": "light"
          }
        }
      ]
    },
    {
      "cell_type": "markdown",
      "metadata": {
        "id": "Qt--zJlgMfNc",
        "colab_type": "text"
      },
      "source": [
        "学習後のAIを用いてゲームを100回プレイさせて、学習結果を確認します。\n",
        "結果からわかることは以下の通りです。\n",
        "\n",
        "- 約80%の確率で10回の戦闘を生き残っている\n",
        "- 10回の戦闘を生き残ったパターンのうち、逃走を行ったのはわずか4パターンしかない<br>（敗北リスクが高い場合でも戦闘勝利にこだわっている可能性がある）"
      ]
    },
    {
      "cell_type": "code",
      "metadata": {
        "id": "x9Y5MKdXMKpC",
        "colab_type": "code",
        "colab": {
          "base_uri": "https://localhost:8080/",
          "height": 312
        },
        "outputId": "386af34b-89f1-43a8-a4b7-e5177e5b2393"
      },
      "source": [
        "test_env = RPG.Simulation(lvs=[7])\n",
        "result_rewards, dead_count = player.test(test_env, 100)\n",
        "print(dead_count)\n",
        "\n",
        "plt.figure(2)\n",
        "plt.clf()\n",
        "rewards_t = torch.tensor(result_rewards, dtype=torch.float)\n",
        "plt.title('Training...')\n",
        "plt.xlabel('Episode')\n",
        "plt.ylabel('Reward')\n",
        "plt.plot(rewards_t.numpy())\n",
        "plt.show()"
      ],
      "execution_count": null,
      "outputs": [
        {
          "output_type": "stream",
          "text": [
            "21\n"
          ],
          "name": "stdout"
        },
        {
          "output_type": "display_data",
          "data": {
            "image/png": "[encoded data removed]",
            "text/plain": [
              "<Figure size 432x288 with 1 Axes>"
            ]
          },
          "metadata": {
            "tags": [],
            "needs_background": "light"
          }
        }
      ]
    },
    {
      "cell_type": "markdown",
      "metadata": {
        "id": "rpY8ggnItKgi",
        "colab_type": "text"
      },
      "source": [
        "学習済みのAIが1エピソード（戦闘10回終了まで）を行う様子を確認してみましょう。"
      ]
    },
    {
      "cell_type": "code",
      "metadata": {
        "id": "IBd7FnvIMW-i",
        "colab_type": "code",
        "colab": {
          "base_uri": "https://localhost:8080/",
          "height": 1000
        },
        "outputId": "884f5560-0084-4586-cd45-b6a08d1bbcc8"
      },
      "source": [
        "player.test(test_env, 1, True)"
      ],
      "execution_count": null,
      "outputs": [
        {
          "output_type": "stream",
          "text": [
            "\n",
            "あなたのステータス\n",
            "HP:40, MP:26\n",
            "モンスター：大ザリガニ\n",
            "\n",
            "あなた は 火の玉 の呪文を唱えた！ 大ザリガニ に 7 のダメージを与えた！\n",
            "大ザリガニ の攻撃！ あなた は 1 のダメージを受けた！\n",
            "\n",
            "あなたのステータス\n",
            "HP:39, MP:23\n",
            "モンスター：大ザリガニ\n",
            "\n",
            "あなた は 火の玉 の呪文を唱えた！ 大ザリガニ に 7 のダメージを与えた！\n",
            "大ザリガニ の攻撃！ あなた は 1 のダメージを受けた！\n",
            "\n",
            "あなたのステータス\n",
            "HP:38, MP:20\n",
            "モンスター：大ザリガニ\n",
            "\n",
            "あなた の攻撃！ 大ザリガニ に 6 のダメージを与えた！\n",
            "大ザリガニ は 倒れた！\n",
            "\n",
            "大ザリガニ を倒した！\n",
            "残り戦闘回数： 9 回\n",
            "\n",
            "新たに 魔法コウモリ が出現しました。コマンドを選択してください。\n",
            "\n",
            "あなたのステータス\n",
            "HP:38, MP:20\n",
            "モンスター：魔法コウモリ\n",
            "\n",
            "あなた の攻撃！ 魔法コウモリ に 10 のダメージを与えた！\n",
            "魔法コウモリ は 火の玉 の呪文を唱えた！ あなた は 8 のダメージを受けた！\n",
            "\n",
            "あなたのステータス\n",
            "HP:30, MP:20\n",
            "モンスター：魔法コウモリ\n",
            "\n",
            "あなた の攻撃！ 魔法コウモリ に 11 のダメージを与えた！\n",
            "魔法コウモリ は 倒れた！\n",
            "\n",
            "魔法コウモリ を倒した！\n",
            "残り戦闘回数： 8 回\n",
            "\n",
            "新たに 魔法コウモリ が出現しました。コマンドを選択してください。\n",
            "\n",
            "あなたのステータス\n",
            "HP:30, MP:20\n",
            "モンスター：魔法コウモリ\n",
            "\n",
            "あなた の攻撃！ 魔法コウモリ に 10 のダメージを与えた！\n",
            "魔法コウモリ の攻撃！ あなた は 0 のダメージを受けた！\n",
            "\n",
            "あなたのステータス\n",
            "HP:30, MP:20\n",
            "モンスター：魔法コウモリ\n",
            "\n",
            "あなた の攻撃！ 魔法コウモリ に 8 のダメージを与えた！\n",
            "魔法コウモリ は 倒れた！\n",
            "\n",
            "魔法コウモリ を倒した！\n",
            "残り戦闘回数： 7 回\n",
            "\n",
            "新たに コウモリーマ が出現しました。コマンドを選択してください。\n",
            "\n",
            "あなたのステータス\n",
            "HP:30, MP:20\n",
            "モンスター：コウモリーマ\n",
            "\n",
            "あなた の攻撃！ コウモリーマ に 5 のダメージを与えた！\n",
            "コウモリーマ は 火の玉 の呪文を唱えた！ あなた は 6 のダメージを受けた！\n",
            "\n",
            "あなたのステータス\n",
            "HP:24, MP:20\n",
            "モンスター：コウモリーマ\n",
            "\n",
            "あなた の攻撃！ コウモリーマ に 5 のダメージを与えた！\n",
            "コウモリーマ は 火の玉 の呪文を唱えた！ あなた は 10 のダメージを受けた！\n",
            "\n",
            "あなたのステータス\n",
            "HP:14, MP:20\n",
            "モンスター：コウモリーマ\n",
            "\n",
            "あなた の攻撃！ コウモリーマ に 6 のダメージを与えた！\n",
            "コウモリーマ は 治療 の呪文を唱えた！ コウモリーマ の HP が 14 回復した！\n",
            "\n",
            "あなたのステータス\n",
            "HP:14, MP:20\n",
            "モンスター：コウモリーマ\n",
            "\n",
            "あなた は 治療 の呪文を唱えた！ あなた の HP が 18 回復した！\n",
            "コウモリーマ の攻撃！ あなた は 3 のダメージを受けた！\n",
            "\n",
            "あなたのステータス\n",
            "HP:29, MP:16\n",
            "モンスター：コウモリーマ\n",
            "\n",
            "あなた の攻撃！ コウモリーマ に 5 のダメージを与えた！\n",
            "コウモリーマ は 火の玉 の呪文を唱えた！ あなた は 9 のダメージを受けた！\n",
            "\n",
            "あなたのステータス\n",
            "HP:20, MP:16\n",
            "モンスター：コウモリーマ\n",
            "\n",
            "あなた の攻撃！ コウモリーマ に 5 のダメージを与えた！\n",
            "コウモリーマ は 火の玉 の呪文を唱えた！ あなた は 7 のダメージを受けた！\n",
            "\n",
            "あなたのステータス\n",
            "HP:13, MP:16\n",
            "モンスター：コウモリーマ\n",
            "\n",
            "あなた の攻撃！ コウモリーマ に 6 のダメージを与えた！\n",
            "コウモリーマ は 火の玉 の呪文を唱えた！ あなた は 8 のダメージを受けた！\n",
            "\n",
            "あなたのステータス\n",
            "HP:5, MP:16\n",
            "モンスター：コウモリーマ\n",
            "\n",
            "あなた の攻撃！ コウモリーマ に 6 のダメージを与えた！\n",
            "コウモリーマ は 倒れた！\n",
            "\n",
            "コウモリーマ を倒した！\n",
            "残り戦闘回数： 6 回\n",
            "\n",
            "新たに コウモリーマ が出現しました。コマンドを選択してください。\n",
            "\n",
            "あなたのステータス\n",
            "HP:5, MP:16\n",
            "モンスター：コウモリーマ\n",
            "\n",
            "あなた は 治療 の呪文を唱えた！ あなた の HP が 22 回復した！\n",
            "コウモリーマ は 火の玉 の呪文を唱えた！ あなた は 3 のダメージを受けた！\n",
            "\n",
            "あなたのステータス\n",
            "HP:24, MP:12\n",
            "モンスター：コウモリーマ\n",
            "\n",
            "あなた の攻撃！ コウモリーマ に 5 のダメージを与えた！\n",
            "コウモリーマ は 火の玉 の呪文を唱えた！ あなた は 10 のダメージを受けた！\n",
            "\n",
            "あなたのステータス\n",
            "HP:14, MP:12\n",
            "モンスター：コウモリーマ\n",
            "\n",
            "あなた は 治療 の呪文を唱えた！ あなた の HP が 21 回復した！\n",
            "コウモリーマ は 治療 の呪文を唱えた！ コウモリーマ の HP が 6 回復した！\n",
            "\n",
            "あなたのステータス\n",
            "HP:35, MP:8\n",
            "モンスター：コウモリーマ\n",
            "\n",
            "あなた の攻撃！ コウモリーマ に 9 のダメージを与えた！\n",
            "コウモリーマ は 火の玉 の呪文を唱えた！ あなた は 5 のダメージを受けた！\n",
            "\n",
            "あなたのステータス\n",
            "HP:30, MP:8\n",
            "モンスター：コウモリーマ\n",
            "\n",
            "あなた の攻撃！ コウモリーマ に 8 のダメージを与えた！\n",
            "コウモリーマ は 火の玉 の呪文を唱えた！ あなた は 7 のダメージを受けた！\n",
            "\n",
            "あなたのステータス\n",
            "HP:23, MP:8\n",
            "モンスター：コウモリーマ\n",
            "\n",
            "あなた の攻撃！ コウモリーマ に 6 のダメージを与えた！\n",
            "コウモリーマ は 倒れた！\n",
            "\n",
            "コウモリーマ を倒した！\n",
            "残り戦闘回数： 5 回\n",
            "\n",
            "新たに 魔法幽霊 が出現しました。コマンドを選択してください。\n",
            "\n",
            "あなたのステータス\n",
            "HP:23, MP:8\n",
            "モンスター：魔法幽霊\n",
            "\n",
            "あなた の攻撃！ 魔法幽霊 に 11 のダメージを与えた！\n",
            "魔法幽霊 の攻撃！ あなた は 3 のダメージを受けた！\n",
            "\n",
            "あなたのステータス\n",
            "HP:20, MP:8\n",
            "モンスター：魔法幽霊\n",
            "\n",
            "あなた の攻撃！ 魔法幽霊 に 6 のダメージを与えた！\n",
            "魔法幽霊 の攻撃！ あなた は 2 のダメージを受けた！\n",
            "\n",
            "あなたのステータス\n",
            "HP:18, MP:8\n",
            "モンスター：魔法幽霊\n",
            "\n",
            "あなた の攻撃！ 魔法幽霊 に 6 のダメージを与えた！\n",
            "魔法幽霊 は 倒れた！\n",
            "\n",
            "魔法幽霊 を倒した！\n",
            "残り戦闘回数： 4 回\n",
            "\n",
            "新たに 魔法幽霊 が出現しました。コマンドを選択してください。\n",
            "\n",
            "あなたのステータス\n",
            "HP:18, MP:8\n",
            "モンスター：魔法幽霊\n",
            "\n",
            "魔法幽霊 の攻撃！ あなた は 1 のダメージを受けた！\n",
            "あなた の攻撃！ 魔法幽霊 に 10 のダメージを与えた！\n",
            "\n",
            "あなたのステータス\n",
            "HP:17, MP:8\n",
            "モンスター：魔法幽霊\n",
            "\n",
            "魔法幽霊 は 火の玉 の呪文を唱えた！ あなた は 9 のダメージを受けた！\n",
            "あなた の攻撃！ 魔法幽霊 に 11 のダメージを与えた！\n",
            "\n",
            "あなたのステータス\n",
            "HP:8, MP:8\n",
            "モンスター：魔法幽霊\n",
            "\n",
            "魔法幽霊 は 火の玉 の呪文を唱えた！ あなた は 8 のダメージを受けた！\n",
            "あなたは死んでしまいました。\n",
            "獲得報酬は-14です。\n"
          ],
          "name": "stdout"
        },
        {
          "output_type": "execute_result",
          "data": {
            "text/plain": [
              "([-14], 1)"
            ]
          },
          "metadata": {
            "tags": []
          },
          "execution_count": 11
        }
      ]
    },
    {
      "cell_type": "markdown",
      "metadata": {
        "id": "ZJs4H3xlMo1D",
        "colab_type": "text"
      },
      "source": [
        "今回は主人公が敗北するパターンでしたが、AIの学習結果を以下の通り読み取ることができます。\n",
        "\n",
        "1. 大ザリガニには「火の玉」の呪文を使い、その他の敵には通常攻撃を行っており、攻撃方法を使い分けている\n",
        "1. 魔法の使用頻度が特に高い「コウモリーマ」に対して「封印」の呪文を使っていない\n",
        "1. HPが低くなると「治療」の呪文を使って自身のHPを回復している。<br>ただし最後の敵（魔法幽霊）との闘いでは回復が間に合わずに敗北している。\n",
        "\n",
        "1に関してはゲーム作成者の意図したとおりにAIが行動しており、ゲームバランス調整/AIの学習ともに成功していると考えられます。\n",
        "\n",
        "2のAIの行動は意図した通りの行動ではありません。これには以下二つの原因が考えられます。\n",
        "\n",
        "- ゲームバランス調整が甘く、「封印」の呪文を使うメリットが薄くなっている\n",
        "- AIが上手く学習できていない\n",
        "\n",
        "今回はAIがそれなりの確率で10回の戦闘を生き残っているため、「封印」の呪文を使わずとも攻略できるゲームバランスになっている可能性が高いです。コウモリーマが使用する呪文を強化したり、強力な魔法を使う敵を増やすことで、AIが「封印」の呪文を使う用になる可能性があります。\n",
        "\n",
        "3については、主人公のHPが17の時点で「治療」の呪文を使っていれば敗北を回避できましたが、この判断は熟練者でも難しいです。この状況で主人公が敗北するには以下の条件がそろわなければいけません。\n",
        "\n",
        "- 魔法幽霊の先制攻撃で戦闘が始まる（このゲームでは最初に先攻後攻を決めた後、必ず交互に行動します）\n",
        "- 魔法幽霊が2回連続で「火の玉」の呪文を使用する\n",
        "- 2回の「火の玉」どちらも高威力の乱数を引く<br>（火の玉はダメージ幅が3～10。1回のダメージ期待値は6.5）\n",
        "\n",
        "この結果は、AIが「一般的なプレイヤー」に近い判断をしており、ゲームを熟知した開発者がテストプレイを行うよりも、より実際のプレイに近いテストプレイを行える可能性を示しています。\n",
        "\n",
        "ここまでの考察は1プレイだけを対象にしていますが、複数のプレイ結果を比較したり、主人公や敵キャラの能力を変えて何度も実験することで、AIのテストプレイが実用に耐えうるか、判断することができます。\n",
        "\n",
        "以上がアプリの使用例です。"
      ]
    }
  ]
}