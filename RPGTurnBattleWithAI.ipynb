{
  "nbformat": 4,
  "nbformat_minor": 0,
  "metadata": {
    "colab": {
      "name": "RPGTurnBattleWithAI.ipynb",
      "provenance": [],
      "collapsed_sections": [],
      "toc_visible": true,
      "authorship_tag": "ABX9TyOPGUK7KtRdPP5XyFCpC6PK",
      "include_colab_link": true
    },
    "kernelspec": {
      "name": "python3",
      "display_name": "Python 3"
    }
  },
  "cells": [
    {
      "cell_type": "markdown",
      "metadata": {
        "id": "view-in-github",
        "colab_type": "text"
      },
      "source": [
        "<a href=\"https://colab.research.google.com/github/MiddleSouth/RPGBattleAI/blob/master/RPGTurnBattleWithAI.ipynb\" target=\"_parent\"><img src=\"https://colab.research.google.com/assets/colab-badge.svg\" alt=\"Open In Colab\"/></a>"
      ]
    },
    {
      "cell_type": "markdown",
      "metadata": {
        "id": "_hNENVdnGdSS"
      },
      "source": [
        "# このアプリの使用例\n",
        "Git Hubから研究用コードをクローンします"
      ]
    },
    {
      "cell_type": "code",
      "metadata": {
        "id": "-C-q56xDA515",
        "colab": {
          "base_uri": "https://localhost:8080/"
        },
        "outputId": "22b9d7de-c201-4676-ad22-75fc7add7d7d"
      },
      "source": [
        "!git clone https://github.com/MiddleSouth/RPGBattleAI.git"
      ],
      "execution_count": 1,
      "outputs": [
        {
          "output_type": "stream",
          "text": [
            "Cloning into 'RPGBattleAI'...\n",
            "remote: Enumerating objects: 77, done.\u001b[K\n",
            "remote: Counting objects: 100% (77/77), done.\u001b[K\n",
            "remote: Compressing objects: 100% (54/54), done.\u001b[K\n",
            "remote: Total 77 (delta 35), reused 55 (delta 21), pack-reused 0\u001b[K\n",
            "Unpacking objects: 100% (77/77), done.\n"
          ],
          "name": "stdout"
        }
      ]
    },
    {
      "cell_type": "markdown",
      "metadata": {
        "id": "-8DWZ1FtGmcD"
      },
      "source": [
        "クローンしたフォルダに移動します"
      ]
    },
    {
      "cell_type": "code",
      "metadata": {
        "id": "mds_-tMWBXLY",
        "colab": {
          "base_uri": "https://localhost:8080/"
        },
        "outputId": "d3eab2f4-9de2-4a60-ce4c-91aef84df1db"
      },
      "source": [
        "%cd RPGBattleAI\n",
        "!ls -lha"
      ],
      "execution_count": 2,
      "outputs": [
        {
          "output_type": "stream",
          "text": [
            "/content/RPGBattleAI\n",
            "total 132K\n",
            "drwxr-xr-x 5 root root 4.0K Jan 15 12:27 .\n",
            "drwxr-xr-x 1 root root 4.0K Jan 15 12:27 ..\n",
            "drwxr-xr-x 2 root root 4.0K Jan 15 12:27 AIPlayer\n",
            "drwxr-xr-x 3 root root 4.0K Jan 15 12:27 battle\n",
            "-rw-r--r-- 1 root root  585 Jan 15 12:27 ExecuteSimulation.py\n",
            "drwxr-xr-x 8 root root 4.0K Jan 15 12:27 .git\n",
            "-rw-r--r-- 1 root root   35 Jan 15 12:27 .gitignore\n",
            "-rw-r--r-- 1 root root 5.0K Jan 15 12:27 ReadMe.md\n",
            "-rw-r--r-- 1 root root 5.0K Jan 15 12:27 RPGTurnBattle.py\n",
            "-rw-r--r-- 1 root root  86K Jan 15 12:27 RPGTurnBattleWithAI.ipynb\n"
          ],
          "name": "stdout"
        }
      ]
    },
    {
      "cell_type": "markdown",
      "metadata": {
        "id": "zmXjSqCNHQca"
      },
      "source": [
        "深層強化学習（DQN）を用いて、ゲームの学習を行います。\n",
        "\n",
        "今回はsampleシナリオの学習を行います。sampleシナリオの戦闘における攻略のコツは以下の二つです。\n",
        "\n",
        "1. プレイヤーは「敵の呪文を封じる」効果を持つ「封印」の呪文を使えます。<br>魔法の使用率が高い敵（魔法幽霊、コウモリーマなど）に「封印」の呪文を使用すると戦闘を有利に進めることができます。\n",
        "2. 攻撃呪文「火の玉」は敵の防御を無視するため、防御力の高い「鉄のザリガニ」に対して特に有効です。\n",
        "\n",
        "これらの攻略のコツをAIが上手く学習するかが、注目ポイントです。"
      ]
    },
    {
      "cell_type": "code",
      "metadata": {
        "id": "v_k-zez_Fllg",
        "colab": {
          "base_uri": "https://localhost:8080/"
        },
        "outputId": "553748a0-1edd-44e6-f721-13a97fd613ca"
      },
      "source": [
        "import sys\n",
        "import RPGTurnBattle as RPG\n",
        "from AIPlayer.DQNPlayer import DQNPlayer\n",
        "\n",
        "training_env = RPG.Simulation(scenario_code='sample')\n",
        "\n",
        "player = DQNPlayer(training_env, 100)\n",
        "player.set_learning_parameters(\n",
        "    gamma=0.99,\n",
        "    eps_decay=4000,\n",
        "    num_episodes=6000,\n",
        "    batch_size=128,\n",
        ")\n",
        "player.training()"
      ],
      "execution_count": 3,
      "outputs": [
        {
          "output_type": "stream",
          "text": [
            "end 600 episode\n",
            "end 1200 episode\n",
            "end 1800 episode\n",
            "end 2400 episode\n",
            "end 3000 episode\n",
            "end 3600 episode\n",
            "end 4200 episode\n",
            "end 4800 episode\n",
            "end 5400 episode\n",
            "end 6000 episode\n",
            "Complete\n"
          ],
          "name": "stdout"
        }
      ]
    },
    {
      "cell_type": "markdown",
      "metadata": {
        "id": "_bNmuITuMaCU"
      },
      "source": [
        "学習の経過をグラフにプロットします。<br>\n",
        "1エピソード事の獲得報酬と、過去100エピソードの獲得報酬の移動平均をグラフにプロットしています。<br>なお、敗北したときの獲得報酬は0未満、10回戦闘を生き残った場合の獲得報酬は0以上、すべての戦闘に勝利したときの獲得報酬は20です。\n",
        "\n",
        "初めのうちはほとんどランダムに行動するため10回の戦闘を生き残れる確率は低く、運よく生き残ってもすべての戦闘に勝利することはできません。しかし3000エピソードを超えたあたりから10回の戦闘すべてに勝利できるパターンが現れ、学習終了時点では安定して高い報酬を得られるようになっていることがわかります。"
      ]
    },
    {
      "cell_type": "code",
      "metadata": {
        "id": "xj4wDHJDJ435",
        "colab": {
          "base_uri": "https://localhost:8080/",
          "height": 295
        },
        "outputId": "48c53928-9681-403a-e151-b35fa9775164"
      },
      "source": [
        "import matplotlib\n",
        "import matplotlib.pyplot as plt\n",
        "import torch\n",
        "\n",
        "plt.figure(2)\n",
        "plt.clf()\n",
        "rewards_t = torch.tensor(player.episode_rewards, dtype=torch.float)\n",
        "plt.title('Training...')\n",
        "plt.xlabel('Episode')\n",
        "plt.ylabel('Reward')\n",
        "plt.plot(rewards_t.numpy())\n",
        "# 過去100エピソードの平均報酬\n",
        "if len(rewards_t) >= 100:\n",
        "    means = rewards_t.unfold(0, 100, 1).mean(1).view(-1)\n",
        "    means = torch.cat((torch.zeros(99), means))\n",
        "    plt.plot(means.numpy())\n",
        "plt.show()"
      ],
      "execution_count": 4,
      "outputs": [
        {
          "output_type": "display_data",
          "data": {
            "image/png": "[encoded data removed]",
            "text/plain": [
              "<Figure size 432x288 with 1 Axes>"
            ]
          },
          "metadata": {
            "tags": [],
            "needs_background": "light"
          }
        }
      ]
    },
    {
      "cell_type": "markdown",
      "metadata": {
        "id": "Qt--zJlgMfNc"
      },
      "source": [
        "学習後のAIを用いてゲームを100回プレイさせて、学習結果を確認します。結果からわかることは以下の通りです。\n",
        "\n",
        "- 約90%の確率で10回の戦闘を生き残っている\n",
        "- 10回の戦闘を生き残ったパターンにおける逃げる回数は0～2回のケースが多く、なるべく戦闘に勝利しつつも10回の戦闘を生き残ることを最も重視していることが読み取れる"
      ]
    },
    {
      "cell_type": "code",
      "metadata": {
        "id": "x9Y5MKdXMKpC",
        "colab": {
          "base_uri": "https://localhost:8080/",
          "height": 312
        },
        "outputId": "3f3901e5-f4ab-4475-f205-96840833584d"
      },
      "source": [
        "test_env = RPG.Simulation(scenario_code='sample')\n",
        "result_rewards, dead_count = player.test(test_env, 100)\n",
        "print(dead_count)\n",
        "\n",
        "plt.figure(2)\n",
        "plt.clf()\n",
        "rewards_t = torch.tensor(result_rewards, dtype=torch.float)\n",
        "plt.title('Training...')\n",
        "plt.xlabel('Episode')\n",
        "plt.ylabel('Reward')\n",
        "plt.plot(rewards_t.numpy())\n",
        "plt.show()"
      ],
      "execution_count": 9,
      "outputs": [
        {
          "output_type": "stream",
          "text": [
            "9\n"
          ],
          "name": "stdout"
        },
        {
          "output_type": "display_data",
          "data": {
            "image/png": "[encoded data removed]",
            "text/plain": [
              "<Figure size 432x288 with 1 Axes>"
            ]
          },
          "metadata": {
            "tags": [],
            "needs_background": "light"
          }
        }
      ]
    },
    {
      "cell_type": "markdown",
      "metadata": {
        "id": "rpY8ggnItKgi"
      },
      "source": [
        "学習済みのAIが1エピソード（戦闘10回終了まで）を行う様子を確認してみましょう。"
      ]
    },
    {
      "cell_type": "code",
      "metadata": {
        "id": "IBd7FnvIMW-i",
        "colab": {
          "base_uri": "https://localhost:8080/"
        },
        "outputId": "e6a1907b-6000-4d9e-9a57-1e2242cb6319"
      },
      "source": [
        "player.test(test_env, 1, True)"
      ],
      "execution_count": 6,
      "outputs": [
        {
          "output_type": "stream",
          "text": [
            "\n",
            "あなたのステータス\n",
            "HP:40, MP:26\n",
            "モンスター：コウモリーマ\n",
            "\n",
            "あなた は 封印 の呪文を唱えた！ コウモリーマ は呪文が使えなくなった！\n",
            "コウモリーマ は 治療 の呪文を唱えた！ しかし呪文は封じられている！\n",
            "\n",
            "あなたのステータス\n",
            "HP:40, MP:24\n",
            "モンスター：コウモリーマ\n",
            "\n",
            "あなた の攻撃！ コウモリーマ に 5 のダメージを与えた！\n",
            "コウモリーマ は 火の玉 の呪文を唱えた！ しかし呪文は封じられている！\n",
            "\n",
            "あなたのステータス\n",
            "HP:40, MP:24\n",
            "モンスター：コウモリーマ\n",
            "\n",
            "あなた の攻撃！ コウモリーマ に 7 のダメージを与えた！\n",
            "コウモリーマ の攻撃！ あなた は 3 のダメージを受けた！\n",
            "\n",
            "あなたのステータス\n",
            "HP:37, MP:24\n",
            "モンスター：コウモリーマ\n",
            "\n",
            "あなた の攻撃！ コウモリーマ に 7 のダメージを与えた！\n",
            "コウモリーマ は 倒れた！\n",
            "\n",
            "コウモリーマ を倒した！\n",
            "残り戦闘回数： 9 回\n",
            "\n",
            "新たに 魔法コウモリ が出現しました。コマンドを選択してください。\n",
            "\n",
            "あなたのステータス\n",
            "HP:37, MP:24\n",
            "モンスター：魔法コウモリ\n",
            "\n",
            "あなた の攻撃！ 魔法コウモリ に 8 のダメージを与えた！\n",
            "魔法コウモリ の攻撃！ あなた は 0 のダメージを受けた！\n",
            "\n",
            "あなたのステータス\n",
            "HP:37, MP:24\n",
            "モンスター：魔法コウモリ\n",
            "\n",
            "あなた の攻撃！ 魔法コウモリ に 7 のダメージを与えた！\n",
            "魔法コウモリ は 倒れた！\n",
            "\n",
            "魔法コウモリ を倒した！\n",
            "残り戦闘回数： 8 回\n",
            "\n",
            "新たに 食人植物 が出現しました。コマンドを選択してください。\n",
            "\n",
            "あなたのステータス\n",
            "HP:37, MP:24\n",
            "モンスター：食人植物\n",
            "\n",
            "あなた の攻撃！ 食人植物 に 7 のダメージを与えた！\n",
            "食人植物 の攻撃！ あなた は 3 のダメージを受けた！\n",
            "\n",
            "あなたのステータス\n",
            "HP:34, MP:24\n",
            "モンスター：食人植物\n",
            "\n",
            "あなた の攻撃！ 食人植物 に 9 のダメージを与えた！\n",
            "食人植物 の攻撃！ あなた は 2 のダメージを受けた！\n",
            "\n",
            "あなたのステータス\n",
            "HP:32, MP:24\n",
            "モンスター：食人植物\n",
            "\n",
            "あなた の攻撃！ 食人植物 に 12 のダメージを与えた！\n",
            "食人植物 は 倒れた！\n",
            "\n",
            "食人植物 を倒した！\n",
            "残り戦闘回数： 7 回\n",
            "\n",
            "新たに 魔法コウモリ が出現しました。コマンドを選択してください。\n",
            "\n",
            "あなたのステータス\n",
            "HP:32, MP:24\n",
            "モンスター：魔法コウモリ\n",
            "\n",
            "あなた の攻撃！ 魔法コウモリ に 7 のダメージを与えた！\n",
            "魔法コウモリ は 火の玉 の呪文を唱えた！ あなた は 3 のダメージを受けた！\n",
            "\n",
            "あなたのステータス\n",
            "HP:29, MP:24\n",
            "モンスター：魔法コウモリ\n",
            "\n",
            "あなた の攻撃！ 魔法コウモリ に 11 のダメージを与えた！\n",
            "魔法コウモリ は 倒れた！\n",
            "\n",
            "魔法コウモリ を倒した！\n",
            "残り戦闘回数： 6 回\n",
            "\n",
            "新たに コウモリーマ が出現しました。コマンドを選択してください。\n",
            "\n",
            "あなたのステータス\n",
            "HP:29, MP:24\n",
            "モンスター：コウモリーマ\n",
            "\n",
            "あなた は 封印 の呪文を唱えた！ コウモリーマ は呪文が使えなくなった！\n",
            "コウモリーマ の攻撃！ あなた は 3 のダメージを受けた！\n",
            "\n",
            "あなたのステータス\n",
            "HP:26, MP:22\n",
            "モンスター：コウモリーマ\n",
            "\n",
            "あなた の攻撃！ コウモリーマ に 5 のダメージを与えた！\n",
            "コウモリーマ の攻撃！ あなた は 3 のダメージを受けた！\n",
            "\n",
            "あなたのステータス\n",
            "HP:23, MP:22\n",
            "モンスター：コウモリーマ\n",
            "\n",
            "あなた の攻撃！ コウモリーマ に 8 のダメージを与えた！\n",
            "コウモリーマ の攻撃！ あなた は 2 のダメージを受けた！\n",
            "\n",
            "あなたのステータス\n",
            "HP:21, MP:22\n",
            "モンスター：コウモリーマ\n",
            "\n",
            "あなた の攻撃！ コウモリーマ に 6 のダメージを与えた！\n",
            "コウモリーマ は 倒れた！\n",
            "\n",
            "コウモリーマ を倒した！\n",
            "残り戦闘回数： 5 回\n",
            "\n",
            "新たに 魔法幽霊 が出現しました。コマンドを選択してください。\n",
            "\n",
            "あなたのステータス\n",
            "HP:21, MP:22\n",
            "モンスター：魔法幽霊\n",
            "\n",
            "あなた の攻撃！ 魔法幽霊 に 8 のダメージを与えた！\n",
            "魔法幽霊 の攻撃！ あなた は 2 のダメージを受けた！\n",
            "\n",
            "あなたのステータス\n",
            "HP:19, MP:22\n",
            "モンスター：魔法幽霊\n",
            "\n",
            "あなた の攻撃！ 魔法幽霊 に 6 のダメージを与えた！\n",
            "魔法幽霊 の攻撃！ あなた は 2 のダメージを受けた！\n",
            "\n",
            "あなたのステータス\n",
            "HP:17, MP:22\n",
            "モンスター：魔法幽霊\n",
            "\n",
            "あなた の攻撃！ 魔法幽霊 に 10 のダメージを与えた！\n",
            "魔法幽霊 は 倒れた！\n",
            "\n",
            "魔法幽霊 を倒した！\n",
            "残り戦闘回数： 4 回\n",
            "\n",
            "新たに コウモリーマ が出現しました。コマンドを選択してください。\n",
            "\n",
            "あなたのステータス\n",
            "HP:17, MP:22\n",
            "モンスター：コウモリーマ\n",
            "\n",
            "コウモリーマ は 治療 の呪文を唱えた！ コウモリーマ の HP が 2 回復した！\n",
            "あなた は 封印 の呪文を唱えた！ コウモリーマ は呪文が使えなくなった！\n",
            "\n",
            "あなたのステータス\n",
            "HP:17, MP:20\n",
            "モンスター：コウモリーマ\n",
            "\n",
            "コウモリーマ は 火の玉 の呪文を唱えた！ しかし呪文は封じられている！\n",
            "あなた の攻撃！ コウモリーマ に 5 のダメージを与えた！\n",
            "\n",
            "あなたのステータス\n",
            "HP:17, MP:20\n",
            "モンスター：コウモリーマ\n",
            "\n",
            "コウモリーマ は 火の玉 の呪文を唱えた！ しかし呪文は封じられている！\n",
            "あなた の攻撃！ コウモリーマ に 5 のダメージを与えた！\n",
            "\n",
            "あなたのステータス\n",
            "HP:17, MP:20\n",
            "モンスター：コウモリーマ\n",
            "\n",
            "コウモリーマ の攻撃！ あなた は 3 のダメージを受けた！\n",
            "あなた の攻撃！ コウモリーマ に 7 のダメージを与えた！\n",
            "\n",
            "あなたのステータス\n",
            "HP:14, MP:20\n",
            "モンスター：コウモリーマ\n",
            "\n",
            "コウモリーマ の攻撃！ あなた は 2 のダメージを受けた！\n",
            "あなた の攻撃！ コウモリーマ に 6 のダメージを与えた！\n",
            "コウモリーマ は 倒れた！\n",
            "\n",
            "コウモリーマ を倒した！\n",
            "残り戦闘回数： 3 回\n",
            "\n",
            "新たに 魔法コウモリ が出現しました。コマンドを選択してください。\n",
            "\n",
            "あなたのステータス\n",
            "HP:12, MP:20\n",
            "モンスター：魔法コウモリ\n",
            "\n",
            "あなた の攻撃！ 魔法コウモリ に 10 のダメージを与えた！\n",
            "魔法コウモリ の攻撃！ あなた は 1 のダメージを受けた！\n",
            "\n",
            "あなたのステータス\n",
            "HP:11, MP:20\n",
            "モンスター：魔法コウモリ\n",
            "\n",
            "あなた の攻撃！ 魔法コウモリ に 6 のダメージを与えた！\n",
            "魔法コウモリ は 倒れた！\n",
            "\n",
            "魔法コウモリ を倒した！\n",
            "残り戦闘回数： 2 回\n",
            "\n",
            "新たに 鉄のザリガニ が出現しました。コマンドを選択してください。\n",
            "\n",
            "あなたのステータス\n",
            "HP:11, MP:20\n",
            "モンスター：鉄のザリガニ\n",
            "\n",
            "あなた は 火の玉 の呪文を唱えた！ 鉄のザリガニ に 8 のダメージを与えた！\n",
            "鉄のザリガニ の攻撃！ あなた は 4 のダメージを受けた！\n",
            "\n",
            "あなたのステータス\n",
            "HP:7, MP:17\n",
            "モンスター：鉄のザリガニ\n",
            "\n",
            "あなた は 治療 の呪文を唱えた！ あなた の HP が 21 回復した！\n",
            "鉄のザリガニ の攻撃！ あなた は 4 のダメージを受けた！\n",
            "\n",
            "あなたのステータス\n",
            "HP:24, MP:13\n",
            "モンスター：鉄のザリガニ\n",
            "\n",
            "あなた は 火の玉 の呪文を唱えた！ 鉄のザリガニ に 7 のダメージを与えた！\n",
            "鉄のザリガニ は 倒れた！\n",
            "\n",
            "鉄のザリガニ を倒した！\n",
            "残り戦闘回数： 1 回\n",
            "\n",
            "新たに 魔法コウモリ が出現しました。コマンドを選択してください。\n",
            "\n",
            "あなたのステータス\n",
            "HP:24, MP:10\n",
            "モンスター：魔法コウモリ\n",
            "\n",
            "あなた の攻撃！ 魔法コウモリ に 7 のダメージを与えた！\n",
            "魔法コウモリ は 火の玉 の呪文を唱えた！ あなた は 8 のダメージを受けた！\n",
            "\n",
            "あなたのステータス\n",
            "HP:16, MP:10\n",
            "モンスター：魔法コウモリ\n",
            "\n",
            "あなた の攻撃！ 魔法コウモリ に 10 のダメージを与えた！\n",
            "魔法コウモリ は 倒れた！\n",
            "\n",
            "魔法コウモリ を倒した！\n",
            "\n",
            "敵を 10 体倒しました！ シミュレーションを終了します。\n",
            "獲得報酬は20です。\n"
          ],
          "name": "stdout"
        },
        {
          "output_type": "execute_result",
          "data": {
            "text/plain": [
              "([20], 0)"
            ]
          },
          "metadata": {
            "tags": []
          },
          "execution_count": 6
        }
      ]
    },
    {
      "cell_type": "markdown",
      "metadata": {
        "id": "ZJs4H3xlMo1D"
      },
      "source": [
        "上記から、AIの学習結果を以下の通り読み取ることができます。\n",
        "\n",
        "1. 大ザリガニには「火の玉」の呪文、その他の敵には通常攻撃を選択しており、攻撃方法を使い分けている。\n",
        "1. HPが低くなると「治療」の呪文を使って自身のHPを回復している。\n",
        "1. 相手に応じて「封印」の呪文を使い分けている。呪文が特に強力なコウモリーマには封印の呪文を利用する一方、魔法コウモリや魔法幽霊には封印の呪文を使っていない。\n",
        "\n",
        "いずれの行動もゲーム作成者が意図した攻略法と同じ、または意図に近い行動をAIが選択しており、AIの学習が成功していると考えられます。"
      ]
    },
    {
      "cell_type": "markdown",
      "metadata": {
        "id": "SdobcCM0Z2vg"
      },
      "source": [
        "ゲームの内容は\"battle/data\"フォルダ内のjsonファイルを編集することで、ある程度は自分で調整することができます。\n",
        "\n",
        "| ファイル名 | 設定内容 |\n",
        "|--|--|\n",
        "| player.json | プレイヤーの能力を設定できます |\n",
        "| enemies.json | 敵の種類・能力などを設定できます |\n",
        "| scenario.json | ゲームのシナリオを設定できます。<br>具体的には、player.jsonに設定したプレイヤーを一人選び、enemies.jsonに設定した敵から出現する敵を複数設定できます。 |\n",
        "\n",
        "設定可能なコマンドは以下の通りです。\n",
        "\n",
        "| コマンド名<br>(ゲーム上の表示) | コマンド名<br>(設定上の名称) | MP消費 | 説明 |\n",
        "|:--|:--|--:|:--|\n",
        "| 攻撃 | attack | 0 | 敵に攻撃する |\n",
        "| 逃げる | escape | 0 | 戦闘から逃げる |\n",
        "| 治療 | cure | 4 | 自分のHPを回復する<br>プレイヤーが使った場合の方が、回復量が若干大きい |\n",
        "| 火の玉 | fire | 3 | 相手に防御無視のダメージを与える<br>プレイヤーが使った場合の方が、ダメージが若干大きい |\n",
        "| 封印 | magic_seal | 2 | 相手の魔法を封印する<br>封印は戦闘終了まで続く |\n",
        "| 睡眠 | sleep | 2 | 相手を眠らせて行動不能にする<br>ランダムで起きて行動可能になる |\n",
        "\n",
        "簡単ですが、このアプリの使い方は以上です。\n"
      ]
    }
  ]
}